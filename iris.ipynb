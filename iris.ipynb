{
  "nbformat": 4,
  "nbformat_minor": 0,
  "metadata": {
    "colab": {
      "name": "iris.ipynb",
      "provenance": [],
      "authorship_tag": "ABX9TyPHgKsSCBKWhB8zuN/v+q3b",
      "include_colab_link": true
    },
    "kernelspec": {
      "name": "python3",
      "display_name": "Python 3"
    },
    "language_info": {
      "name": "python"
    }
  },
  "cells": [
    {
      "cell_type": "markdown",
      "metadata": {
        "id": "view-in-github",
        "colab_type": "text"
      },
      "source": [
        "<a href=\"https://colab.research.google.com/github/joews/sandbox/blob/master/iris.ipynb\" target=\"_parent\"><img src=\"https://colab.research.google.com/assets/colab-badge.svg\" alt=\"Open In Colab\"/></a>"
      ]
    },
    {
      "cell_type": "code",
      "execution_count": 100,
      "metadata": {
        "id": "9mB6mNBTmAQ5"
      },
      "outputs": [],
      "source": [
        "import numpy as np\n",
        "from sklearn import datasets\n",
        "from sklearn.model_selection import train_test_split \n",
        "\n",
        "# Sepal Length, Sepal Width, Petal Length, Petal Width\n",
        "iris = datasets.load_iris()\n",
        "\n",
        "n_classes = len(set(iris.target))\n",
        "X_train, X_test, y_train, y_test = train_test_split(iris.data, iris.target, test_size=0.3, random_state=1232)\n",
        "\n"
      ]
    },
    {
      "cell_type": "code",
      "source": [
        "from sklearn.linear_model import LogisticRegression\n",
        "from sklearn import svm\n",
        "from sklearn import metrics\n",
        "from sklearn.metrics import precision_recall_curve\n",
        "from sklearn.metrics import precision_score, recall_score\n",
        "from sklearn.pipeline import make_pipeline\n",
        "from sklearn.preprocessing import StandardScaler\n",
        "\n",
        "\n",
        "# logistic_regression = LogisticRegression(multi_class=\"ovr\", solver=\"liblinear\").fit(X_train, y_train);\n",
        "# logistic_regression = LogisticRegression(multi_class=\"multinomial\", solver=\"newton-cg\").fit(X_train, y_train);\n",
        "\n",
        "svm = svm.SVC()\n",
        "\n",
        "# model = logistic_regression\n",
        "model = make_pipeline(StandardScaler(), logistic_regression)\n",
        "# model = svm\n",
        "# model = make_pipeline(StandardScaler(), svm)\n",
        "\n",
        "model.fit(X_train, y_train);\n",
        "predictions_test = model.predict(X_test)\n",
        "\n",
        "accuracy_train = model.score(X_train, y_train);\n",
        "accuracy_test = model.score(X_test, y_test);\n",
        "\n",
        "t1 = model.predict(np.array([X_test[2]]))\n",
        "score2 = model.score(X_test, y_test);\n",
        "\n",
        "# confusion_matrix = metrics.confusion_matrix(y_test, test_predictions)\n",
        "\n",
        "precision = precision_score(y_test, predictions_test, average=\"micro\")\n",
        "recall = recall_score(y_test, predictions_test, average=\"micro\")\n",
        "\n",
        "print(f\"Accuracy {accuracy_test:.2f} ({accuracy_train:.2f} train)\")\n",
        "print(f\"Precision {precision:.2f}\")\n",
        "print(f\"Recall {recall:.2f}\")\n",
        "\n",
        "\n"
      ],
      "metadata": {
        "colab": {
          "base_uri": "https://localhost:8080/"
        },
        "id": "53WB5Rk3mUJK",
        "outputId": "73a5bf74-14f4-4537-8c8b-d99066655e56"
      },
      "execution_count": 103,
      "outputs": [
        {
          "output_type": "stream",
          "name": "stdout",
          "text": [
            "Accuracy 0.93 (0.96 train)\n",
            "Precision 0.93\n",
            "Recall 0.93\n"
          ]
        }
      ]
    },
    {
      "cell_type": "code",
      "source": [
        "#@title\n",
        "# Code source: Gaël Varoquaux\n",
        "# Modified for documentation by Jaques Grobler\n",
        "# License: BSD 3 clause\n",
        "\n",
        "import matplotlib.pyplot as plt\n",
        "from mpl_toolkits.mplot3d import Axes3D\n",
        "# from sklearn import datasets\n",
        "from sklearn.decomposition import PCA\n",
        "\n",
        "# import some data to play with\n",
        "# iris = datasets.load_iris()\n",
        "# X = iris.data[:, :2]  # we only take the first two features.\n",
        "# y = iris.target\n",
        "\n",
        "x_min, x_max = X[:, 0].min() - 0.5, X[:, 0].max() + 0.5\n",
        "y_min, y_max = X[:, 1].min() - 0.5, X[:, 1].max() + 0.5\n",
        "\n",
        "plt.figure(2, figsize=(8, 6))\n",
        "plt.clf()\n",
        "\n",
        "# Plot the training points\n",
        "plt.scatter(X[:, 0], X[:, 1], c=y, cmap=plt.cm.Set1, edgecolor=\"k\")\n",
        "plt.xlabel(\"Sepal length\")\n",
        "plt.ylabel(\"Sepal width\")\n",
        "\n",
        "plt.xlim(x_min, x_max)\n",
        "plt.ylim(y_min, y_max)\n",
        "plt.xticks(())\n",
        "plt.yticks(())\n",
        "\n",
        "# To getter a better understanding of interaction of the dimensions\n",
        "# plot the first three PCA dimensions\n",
        "fig = plt.figure(1, figsize=(8, 6))\n",
        "ax = Axes3D(fig, elev=-150, azim=110)\n",
        "X_reduced = PCA(n_components=3).fit_transform(iris.data)\n",
        "ax.scatter(\n",
        "    X_reduced[:, 0],\n",
        "    X_reduced[:, 1],\n",
        "    X_reduced[:, 2],\n",
        "    c=y,\n",
        "    cmap=plt.cm.Set1,\n",
        "    edgecolor=\"k\",\n",
        "    s=40,\n",
        ")\n",
        "ax.set_title(\"First three PCA directions\")\n",
        "ax.set_xlabel(\"1st eigenvector\")\n",
        "ax.w_xaxis.set_ticklabels([])\n",
        "ax.set_ylabel(\"2nd eigenvector\")\n",
        "ax.w_yaxis.set_ticklabels([])\n",
        "ax.set_zlabel(\"3rd eigenvector\")\n",
        "ax.w_zaxis.set_ticklabels([])\n",
        "\n",
        "plt.show()"
      ],
      "metadata": {
        "cellView": "form",
        "id": "YWV8VfQDmFcw"
      },
      "execution_count": null,
      "outputs": []
    }
  ]
}